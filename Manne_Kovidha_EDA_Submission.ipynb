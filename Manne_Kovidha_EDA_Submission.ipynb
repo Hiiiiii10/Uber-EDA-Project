{
  "nbformat": 4,
  "nbformat_minor": 0,
  "metadata": {
    "colab": {
      "private_outputs": true,
      "provenance": [],
      "collapsed_sections": [
        "vncDsAP0Gaoa",
        "FJNUwmbgGyua",
        "w6K7xa23Elo4",
        "yQaldy8SH6Dl",
        "PH-0ReGfmX4f",
        "mDgbUHAGgjLW",
        "O_i_v8NEhb9l",
        "HhfV-JJviCcP",
        "Y3lxredqlCYt",
        "3RnN4peoiCZX",
        "x71ZqKXriCWQ",
        "7hBIi_osiCS2",
        "JlHwYmJAmNHm",
        "35m5QtbWiB9F",
        "PoPl-ycgm1ru",
        "H0kj-8xxnORC",
        "nA9Y7ga8ng1Z",
        "PBTbrJXOngz2",
        "u3PMJOP6ngxN",
        "dauF4eBmngu3",
        "bKJF3rekwFvQ",
        "MSa1f5Uengrz",
        "GF8Ens_Soomf",
        "0wOQAZs5pc--",
        "K5QZ13OEpz2H",
        "lQ7QKXXCp7Bj",
        "448CDAPjqfQr",
        "KSlN3yHqYklG",
        "t6dVpIINYklI",
        "ijmpgYnKYklI",
        "-JiQyfWJYklI",
        "EM7whBJCYoAo",
        "fge-S5ZAYoAp",
        "85gYPyotYoAp",
        "RoGjAbkUYoAp",
        "4Of9eVA-YrdM",
        "iky9q4vBYrdO",
        "F6T5p64dYrdO",
        "y-Ehk30pYrdP",
        "bamQiAODYuh1",
        "QHF8YVU7Yuh3",
        "GwzvFGzlYuh3",
        "qYpmQ266Yuh3",
        "OH-pJp9IphqM",
        "bbFf2-_FphqN",
        "_ouA3fa0phqN",
        "Seke61FWphqN",
        "PIIx-8_IphqN",
        "t27r6nlMphqO",
        "r2jJGEOYphqO",
        "b0JNsNcRphqO",
        "BZR9WyysphqO",
        "jj7wYXLtphqO",
        "eZrbJ2SmphqO",
        "rFu4xreNphqO",
        "YJ55k-q6phqO",
        "gCFgpxoyphqP",
        "OVtJsKN_phqQ",
        "lssrdh5qphqQ",
        "U2RJ9gkRphqQ",
        "1M8mcRywphqQ",
        "tgIPom80phqQ",
        "JMzcOPDDphqR",
        "x-EpHcCOp1ci",
        "X_VqEhTip1ck",
        "8zGJKyg5p1ck",
        "PVzmfK_Ep1ck",
        "n3dbpmDWp1ck",
        "ylSl6qgtp1ck",
        "ZWILFDl5p1ck",
        "M7G43BXep1ck",
        "Ag9LCva-p1cl",
        "E6MkPsBcp1cl",
        "2cELzS2fp1cl",
        "3MPXvC8up1cl",
        "NC_X3p0fY2L0",
        "UV0SzAkaZNRQ",
        "YPEH6qLeZNRQ",
        "q29F0dvdveiT",
        "EXh0U9oCveiU",
        "22aHeOlLveiV",
        "JcMwzZxoAimU",
        "8G2x9gOozGDZ",
        "gCX9965dhzqZ",
        "gIfDvo9L0UH2"
      ]
    },
    "kernelspec": {
      "name": "python3",
      "display_name": "Python 3"
    },
    "language_info": {
      "name": "python"
    }
  },
  "cells": [
    {
      "cell_type": "code",
      "source": [],
      "metadata": {
        "id": "I1apcow5dxii"
      },
      "execution_count": null,
      "outputs": []
    },
    {
      "cell_type": "markdown",
      "source": [
        "# **Project Name**    - *Uber Supply Demand Gap*\n",
        "\n"
      ],
      "metadata": {
        "id": "vncDsAP0Gaoa"
      }
    },
    {
      "cell_type": "markdown",
      "source": [
        "##### **Project Type**    - Explanatory Data Analysis of Uber Request Data\n",
        "##### **Contribution**    - Individual\n",
        "##### **By -** Manne Kovidha\n"
      ],
      "metadata": {
        "id": "beRrZCGUAJYm"
      }
    },
    {
      "cell_type": "markdown",
      "source": [
        "# **Project Summary -**"
      ],
      "metadata": {
        "id": "FJNUwmbgGyua"
      }
    },
    {
      "cell_type": "markdown",
      "source": [
        "Uber is facing a **problem of supply-demand gap**. This happens mostly during the night and early morning hours for rides from the airport to the city. During these times, many passengers are unable to get a cab. Either no cabs are available at night, or drivers cancel rides in the early morning.\n",
        "\n",
        "The analysis and solution ideas were already provided to me. These helped me understand the issue clearly. Based on the figures (1.1, 1.2, and 1.3), there is a clear pattern. At night, there are very **few drivers available**. In the early morning, **many drivers cancel rides**. Figure 2 shows that most cancellations happen in the early morning and morning hours.\n",
        "\n",
        "The analysis suggests two simple solutions. The first is to **give drivers extra pay (incentives)** during early morning and morning hours. This can be called rush hour pricing. It will encourage drivers to accept rides and reduce cancellations. The second solution is to **create night shifts for drivers**. This will help more cabs to be available during night hours. These two steps can reduce the gap between supply and demand.\n",
        "\n",
        "Now, based on this background, I have to complete the remaining four tasks.\n",
        "These tasks will support the analysis and help explore the data better. The tasks include: cleaning the data in Excel, creating dashboards in Excel, using SQL to find insights, and doing EDA (Exploratory Data Analysis) using Pandas in Python.\n",
        "\n",
        "The first step is to **clean the data using Excel**. I will remove empty rows, correct formatting issues, and make sure all time and date values are proper. This will help make the data ready for analysis.\n",
        "\n",
        "Next, I will **create dashboards in Excel**. These will include graphs and charts that show how many ride requests happen at different times, when drivers cancel the most, and when cab supply is lowest. These dashboards will help visualize the gap in a clear way.\n",
        "\n",
        "After that, I will **use SQL to write simple queries**. These queries will help me find out how many ride requests were made at each hour, how many were cancelled, and how many rides were completed. I will also add comments (using --) in each query to explain what it does, in simple words.\n",
        "\n",
        "Finally, I will **use Pandas in Python to do EDA**. This means I will explore the data further. I will group the data by hour, calculate totals and percentages, and create simple charts. This will help confirm the trends shown in the original analysis and may reveal more useful patterns.\n",
        "\n",
        "In short, the analysis and solution part was already given to me. My job now is to **work with the data and find more insights**. By cleaning the data, building dashboards, writing SQL queries, and using Pandas for EDA, I will help support the given findings. These steps will help show the problem more clearly and make the solutions more useful with the help of real data.\n",
        "\n"
      ],
      "metadata": {
        "id": "F6v_1wHtG2nS"
      }
    },
    {
      "cell_type": "markdown",
      "source": [
        "# **GitHub Link -**"
      ],
      "metadata": {
        "id": "w6K7xa23Elo4"
      }
    },
    {
      "cell_type": "markdown",
      "source": [
        "Click here to view my GitHub Repo https://github.com/Hiiiiii10/Uber-EDA-Project"
      ],
      "metadata": {
        "id": "h1o69JH3Eqqn"
      }
    },
    {
      "cell_type": "markdown",
      "source": [
        "# **Problem Statement**\n"
      ],
      "metadata": {
        "id": "yQaldy8SH6Dl"
      }
    },
    {
      "cell_type": "markdown",
      "source": [
        "**Write Problem Statement Here.**"
      ],
      "metadata": {
        "id": "DpeJGUA3kjGy"
      }
    },
    {
      "cell_type": "markdown",
      "source": [
        "#### **Define Your Business Objective?**"
      ],
      "metadata": {
        "id": "PH-0ReGfmX4f"
      }
    },
    {
      "cell_type": "markdown",
      "source": [
        "The main business objective is to identify and reduce the supply-demand gap in Uber services, especially during night and early morning hours for rides from the airport to the city. This involves understanding when and why ride requests go unfulfilled, such as due to driver unavailability or cancellations, and finding data-driven solutions to improve ride availability, reduce cancellations, and increase customer satisfaction during these critical time slots.\n",
        "\n"
      ],
      "metadata": {
        "id": "PhDvGCAqmjP1"
      }
    },
    {
      "cell_type": "markdown",
      "source": [
        "# **General Guidelines** : -  "
      ],
      "metadata": {
        "id": "mDgbUHAGgjLW"
      }
    },
    {
      "cell_type": "markdown",
      "source": [
        "1.   Well-structured, formatted, and commented code is required.\n",
        "2.   Exception Handling, Production Grade Code & Deployment Ready Code will be a plus. Those students will be awarded some additional credits.\n",
        "     \n",
        "     The additional credits will have advantages over other students during Star Student selection.\n",
        "       \n",
        "             [ Note: - Deployment Ready Code is defined as, the whole .ipynb notebook should be executable in one go\n",
        "                       without a single error logged. ]\n",
        "\n",
        "3.   Each and every logic should have proper comments.\n",
        "4. You may add as many number of charts you want. Make Sure for each and every chart the following format should be answered.\n",
        "        \n",
        "\n",
        "```\n",
        "# Chart visualization code\n",
        "```\n",
        "            \n",
        "\n",
        "*   Why did you pick the specific chart?\n",
        "*   What is/are the insight(s) found from the chart?\n",
        "* Will the gained insights help creating a positive business impact?\n",
        "Are there any insights that lead to negative growth? Justify with specific reason.\n",
        "\n",
        "5. You have to create at least 20 logical & meaningful charts having important insights.\n",
        "\n",
        "\n",
        "[ Hints : - Do the Vizualization in  a structured way while following \"UBM\" Rule.\n",
        "\n",
        "U - Univariate Analysis,\n",
        "\n",
        "B - Bivariate Analysis (Numerical - Categorical, Numerical - Numerical, Categorical - Categorical)\n",
        "\n",
        "M - Multivariate Analysis\n",
        " ]\n",
        "\n",
        "\n",
        "\n"
      ],
      "metadata": {
        "id": "ZrxVaUj-hHfC"
      }
    },
    {
      "cell_type": "markdown",
      "source": [
        "# ***Let's Begin !***"
      ],
      "metadata": {
        "id": "O_i_v8NEhb9l"
      }
    },
    {
      "cell_type": "markdown",
      "source": [
        "## ***1. Know Your Data***"
      ],
      "metadata": {
        "id": "HhfV-JJviCcP"
      }
    },
    {
      "cell_type": "markdown",
      "source": [
        "### Import Libraries"
      ],
      "metadata": {
        "id": "Y3lxredqlCYt"
      }
    },
    {
      "cell_type": "code",
      "source": [
        "# Import Libraries\n",
        "import pandas as pd\n",
        "import matplotlib.pyplot as plt\n",
        "import seaborn as sns\n",
        "from google.colab import files\n",
        "\n",
        "df = pd.read_csv(\"https://raw.githubusercontent.com/Hiiiiii10/Uber-EDA-Project/main/UBERCLEANEDDATA.CSV\")"
      ],
      "metadata": {
        "id": "M8Vqi-pPk-HR"
      },
      "execution_count": null,
      "outputs": []
    },
    {
      "cell_type": "markdown",
      "source": [
        "This step loads the dataset that I uploaded on Github along with this EDA File. (It is already cleaned on excel)."
      ],
      "metadata": {
        "id": "qkYZmmM-vtn7"
      }
    },
    {
      "cell_type": "markdown",
      "source": [
        "### Dataset Loading"
      ],
      "metadata": {
        "id": "3RnN4peoiCZX"
      }
    },
    {
      "cell_type": "code",
      "source": [
        "try:\n",
        "    df = pd.read_csv(\"https://raw.githubusercontent.com/Hiiiiii10/Uber-EDA-Project/main/UBERCLEANEDDATA.CSV\")\n",
        "    print(\"Data loaded successfully.\")\n",
        "except Exception as e:\n",
        "    print(\"Error loading file:\", e)"
      ],
      "metadata": {
        "id": "4CkvbW_SlZ_R"
      },
      "execution_count": null,
      "outputs": []
    },
    {
      "cell_type": "markdown",
      "source": [
        "The dataset is loaded."
      ],
      "metadata": {
        "id": "RyEfM6HMyh05"
      }
    },
    {
      "cell_type": "markdown",
      "source": [
        "### Dataset First View"
      ],
      "metadata": {
        "id": "x71ZqKXriCWQ"
      }
    },
    {
      "cell_type": "code",
      "source": [
        "# Dataset First Look #\n",
        "df.head()\n",
        "\n"
      ],
      "metadata": {
        "id": "LWNFOSvLl09H"
      },
      "execution_count": null,
      "outputs": []
    },
    {
      "cell_type": "markdown",
      "source": [
        "**Dataset First View**\n",
        "This shows the first few records of the Uber dataset. This dataset initially contains records of Uber ride requests, including fields such as request timestamp, drop timestamp, ride status (Completed, Cancelled, or No Cars Available), and pickup point.\n",
        "\n",
        "In Step 1, I performed preliminary data cleaning in Excel. This included:\n",
        "\n",
        "Separating timestamps into distinct Date and Time columns to allow for easier time-based analysis.\n",
        "\n",
        "Creating a new column to categorize each ride into a Time Slot (e.g., Early Morning, Morning, Afternoon, Evening, Night) based on the request time, enabling better identification of peak demand periods and supply-demand gaps.\n",
        "\n",
        "These cleaned and derived columns now form the base for further exploration and visualization in the upcoming analysis steps."
      ],
      "metadata": {
        "id": "yNCzta-SvyFn"
      }
    },
    {
      "cell_type": "markdown",
      "source": [
        "### Dataset Rows & Columns count"
      ],
      "metadata": {
        "id": "7hBIi_osiCS2"
      }
    },
    {
      "cell_type": "code",
      "source": [
        "# Dataset Rows & Columns count\n",
        "df.shape\n"
      ],
      "metadata": {
        "id": "Kllu7SJgmLij"
      },
      "execution_count": null,
      "outputs": []
    },
    {
      "cell_type": "markdown",
      "source": [
        "Dataset Dimensions\n",
        "There are 6745 rows and 7 columns in the dataset."
      ],
      "metadata": {
        "id": "E8bOiS5Qv5dm"
      }
    },
    {
      "cell_type": "markdown",
      "source": [
        "### Dataset Information"
      ],
      "metadata": {
        "id": "JlHwYmJAmNHm"
      }
    },
    {
      "cell_type": "code",
      "source": [
        "# Dataset Info\n",
        "df.info()\n"
      ],
      "metadata": {
        "id": "e9hRXRi6meOf"
      },
      "execution_count": null,
      "outputs": []
    },
    {
      "cell_type": "markdown",
      "source": [
        "**Dataset Info**\n",
        "- The dataset contains both object and datetime columns.\n",
        "- All major columns like Request timestamp and Status are properly typed.\n",
        "- This part shows the total cells that are not empty and their data types."
      ],
      "metadata": {
        "id": "tLlhNy-8v_7O"
      }
    },
    {
      "cell_type": "markdown",
      "source": [
        "#### Duplicate Values"
      ],
      "metadata": {
        "id": "35m5QtbWiB9F"
      }
    },
    {
      "cell_type": "code",
      "source": [
        "# Check for duplicates\n",
        "df.duplicated().sum()\n"
      ],
      "metadata": {
        "id": "1sLdpKYkmox0"
      },
      "execution_count": null,
      "outputs": []
    },
    {
      "cell_type": "markdown",
      "source": [
        "**Duplicate Rows Check**\n",
        "\n",
        "There are 0 duplicate rows in the dataset."
      ],
      "metadata": {
        "id": "9NmVmb1MwEk7"
      }
    },
    {
      "cell_type": "markdown",
      "source": [
        "#### Missing Values/Null Values"
      ],
      "metadata": {
        "id": "PoPl-ycgm1ru"
      }
    },
    {
      "cell_type": "code",
      "source": [
        "# Missing Values/Null Values\n",
        "df.isnull().sum()\n"
      ],
      "metadata": {
        "id": "GgHWkxvamxVg"
      },
      "execution_count": null,
      "outputs": []
    },
    {
      "cell_type": "markdown",
      "source": [
        "**Missing Values**\n",
        "- Some drop timestamps are missing because the ride was never completed.\n",
        "- Request timestamp and Status are complete with no nulls.\n",
        "- Therefore, few cells of driver ID, and drop time and date fields are empty as they were either cancelled or there were no cars available."
      ],
      "metadata": {
        "id": "xzekYZLYwIfN"
      }
    },
    {
      "cell_type": "code",
      "source": [
        "# Visualizing the missing values\n",
        "missing_values = df.isnull().sum()\n",
        "\n",
        "# Columns with missing data\n",
        "print(\"🧾 Missing Values Summary:\")\n",
        "print(missing_values[missing_values > 0])\n",
        "\n",
        "# Plot missing values using seaborn heatmap\n",
        "import seaborn as sns\n",
        "import matplotlib.pyplot as plt\n",
        "\n",
        "plt.figure(figsize=(10,6))\n",
        "sns.heatmap(df.isnull(), cbar=False, cmap='Reds', yticklabels=False)\n",
        "plt.title(\"Heatmap of Missing Values in Dataset\")\n",
        "plt.show()"
      ],
      "metadata": {
        "id": "3q5wnI3om9sJ"
      },
      "execution_count": null,
      "outputs": []
    },
    {
      "cell_type": "markdown",
      "source": [
        "### What did you know about your dataset?"
      ],
      "metadata": {
        "id": "H0kj-8xxnORC"
      }
    },
    {
      "cell_type": "markdown",
      "source": [
        "- The dataset covers Uber rides with status labels like Completed, Cancelled, and No Cars Available. in the analysis, I will be focusing on unfulffied requests which are the ones that are cancelled and no cars available.\n",
        "- Time of request plays a major role where the demand is not met during late nights, mornings and early mornings. And also pickup point from the airport.\n",
        "- Missing values are only in drop time, which makes sense for unfulfilled trips.\n",
        "- This data can help us understand peak demand times and supply issues.\n"
      ],
      "metadata": {
        "id": "gfoNAAC-nUe_"
      }
    },
    {
      "cell_type": "markdown",
      "source": [
        "## ***2. Understanding Your Variables***"
      ],
      "metadata": {
        "id": "nA9Y7ga8ng1Z"
      }
    },
    {
      "cell_type": "code",
      "source": [
        "# Dataset Columns #\n",
        "column_info = pd.DataFrame({\n",
        "    'Column Name': df.columns,\n",
        "    'Data Type': df.dtypes.values\n",
        "})\n",
        "\n",
        "column_info\n",
        "\n"
      ],
      "metadata": {
        "id": "j7xfkqrt5Ag5"
      },
      "execution_count": null,
      "outputs": []
    },
    {
      "cell_type": "markdown",
      "source": [
        "The table below shows all column names and their data types in the dataset."
      ],
      "metadata": {
        "id": "02av8DSewh1Y"
      }
    },
    {
      "cell_type": "markdown",
      "source": [
        "### Column Table\n"
      ],
      "metadata": {
        "id": "G6rSEIfQUq_m"
      }
    },
    {
      "cell_type": "code",
      "source": [
        "# Dataset Describe\n",
        "df.describe()"
      ],
      "metadata": {
        "id": "DnOaZdaE5Q5t"
      },
      "execution_count": null,
      "outputs": []
    },
    {
      "cell_type": "markdown",
      "source": [
        "**Dataset Describe**\n",
        "Only columns like request ID or driver ID will show summary statistics since these columns are numerical and not categorical or datetime. This helps us understand the spread and distribution of numeric data."
      ],
      "metadata": {
        "id": "81ajgCIBwnNG"
      }
    },
    {
      "cell_type": "markdown",
      "source": [
        "### Variables Description"
      ],
      "metadata": {
        "id": "PBTbrJXOngz2"
      }
    },
    {
      "cell_type": "markdown",
      "source": [
        "📋 Uber Dataset Column Description\n",
        "\n",
        "| Column Name         | Description |\n",
        "|---------------------|-------------|\n",
        "| Request id          | Unique identifier for each trip request |\n",
        "| Pickup point        | Location from where the request was made (City/Airport) |\n",
        "| Status              | Final status of the trip (Completed, Cancelled, No Cars Available) |\n",
        "| Request timestamp   | Date and time when the ride was requested |\n",
        "| Drop timestamp      | Time when the trip was completed (null if not completed) |\n",
        "| Request Hour        | Extracted hour from request timestamp |\n",
        "| Time Slot           | Categorized time block (e.g., Night, Morning Rush, etc.) |re"
      ],
      "metadata": {
        "id": "aJV4KIxSnxay"
      }
    },
    {
      "cell_type": "markdown",
      "source": [
        "### Check Unique Values for each variable."
      ],
      "metadata": {
        "id": "u3PMJOP6ngxN"
      }
    },
    {
      "cell_type": "code",
      "source": [
        "for col in df.columns:\n",
        "    print(f\"\\nUnique values in '{col}':\")\n",
        "    print(df[col].unique())\n"
      ],
      "metadata": {
        "id": "zms12Yq5n-jE"
      },
      "execution_count": null,
      "outputs": []
    },
    {
      "cell_type": "markdown",
      "source": [
        "**Unique Values for Each Variable**\n",
        "- Status has 3 values.\n",
        "- Pickup point has 2 values.\n",
        "- Time slot has 6 blocks.\n",
        "- Request date has 5 values."
      ],
      "metadata": {
        "id": "Ah4VWHLGwsrj"
      }
    },
    {
      "cell_type": "markdown",
      "source": [
        "## 3. ***Data Wrangling***"
      ],
      "metadata": {
        "id": "dauF4eBmngu3"
      }
    },
    {
      "cell_type": "markdown",
      "source": [
        "### Data Wrangling Code"
      ],
      "metadata": {
        "id": "bKJF3rekwFvQ"
      }
    },
    {
      "cell_type": "code",
      "source": [
        "# Convert 'Request time' to datetime format\n",
        "df['Request Time'] = pd.to_datetime(df['Request Time'], errors='coerce')\n",
        "\n",
        "# Create a new column to extract the hour of request\n",
        "df['Request Hour'] = df['Request Time'].dt.hour\n",
        "\n",
        "# Create time slots based on hour\n",
        "def get_time_slot(hour):\n",
        "    if 0 <= hour < 7:\n",
        "        return \"Early Morning\"\n",
        "    elif 7 <= hour < 12:\n",
        "        return \"Morning\"\n",
        "    elif 12 <= hour < 16:\n",
        "        return \"Afternoon\"\n",
        "    elif 16 <= hour < 19:\n",
        "        return \"Evening\"\n",
        "    else:\n",
        "        return \"Night\"\n",
        "\n",
        "# Create 'Time Slot' column\n",
        "df['EDA Time Slot'] = df['Request Hour'].apply(get_time_slot)\n",
        "\n",
        "# Updated dataset\n",
        "df.head()"
      ],
      "metadata": {
        "id": "-4jec3_fpyfX"
      },
      "execution_count": null,
      "outputs": []
    },
    {
      "cell_type": "markdown",
      "source": [
        "**Data Wrangling Code**\n",
        "\n",
        "In this section, I prepared the dataset for analysis by transforming and enriching the raw data using the `Request time` column.\n",
        "This includes converting it into datetime format and generating new columns like `Request Hour` and `Time Slot` to help us analyze time-based trends effectively."
      ],
      "metadata": {
        "id": "mQPWyYREw76e"
      }
    },
    {
      "cell_type": "markdown",
      "source": [
        "### What all manipulations have you done and insights you found?"
      ],
      "metadata": {
        "id": "MSa1f5Uengrz"
      }
    },
    {
      "cell_type": "markdown",
      "source": [
        "**Manipulations Done:**\n",
        "- Converted 'Request timestamp' and 'Drop timestamp' into datetime format.\n",
        "- Created a new column 'Request Hour' to extract the hour of the request.\n",
        "- Added a derived column 'Time Slot' to categorize requests into 6 time-based buckets.\n",
        "\n",
        "**Insights from Wrangling:**\n",
        "- Peak request hours can now be grouped logically using 'Time Slot'.\n",
        "- Missing drop timestamps correspond to Cancelled or No Car Available rides — this makes sense.\n",
        "- These steps make the dataset easier to analyze using groupby and plotting operations.\n"
      ],
      "metadata": {
        "id": "LbyXE7I1olp8"
      }
    },
    {
      "cell_type": "markdown",
      "source": [
        "## ***4. Data Vizualization, Storytelling & Experimenting with charts : Understand the relationships between variables***"
      ],
      "metadata": {
        "id": "GF8Ens_Soomf"
      }
    },
    {
      "cell_type": "markdown",
      "source": [
        "#### Chart - 1: Status Distribution"
      ],
      "metadata": {
        "id": "0wOQAZs5pc--"
      }
    },
    {
      "cell_type": "code",
      "source": [
        "# Chart - 1 visualization code\n",
        "import seaborn as sns\n",
        "import matplotlib.pyplot as plt\n",
        "\n",
        "plt.figure(figsize=(7,5))\n",
        "sns.countplot(data=df, x='Status', hue='Status', palette='Set2', legend=False)\n",
        "plt.title(\"Distribution of Trip Status\")\n",
        "plt.xlabel(\"Trip Status\")\n",
        "plt.ylabel(\"Number of Requests\")\n",
        "plt.show()\n"
      ],
      "metadata": {
        "id": "7v_ESjsspbW7"
      },
      "execution_count": null,
      "outputs": []
    },
    {
      "cell_type": "markdown",
      "source": [
        "##### 1. Why did you pick the specific chart?"
      ],
      "metadata": {
        "id": "K5QZ13OEpz2H"
      }
    },
    {
      "cell_type": "markdown",
      "source": [
        "This countplot clearly shows how many requests fall into each category (Completed, Cancelled, No Cars Available)."
      ],
      "metadata": {
        "id": "XESiWehPqBRc"
      }
    },
    {
      "cell_type": "markdown",
      "source": [
        "##### 2. What is/are the insight(s) found from the chart?"
      ],
      "metadata": {
        "id": "lQ7QKXXCp7Bj"
      }
    },
    {
      "cell_type": "markdown",
      "source": [
        "There are a large number of unfulfilled requests — especially “No Cars Available,” indicating a possible supply issue.\n"
      ],
      "metadata": {
        "id": "C_j1G7yiqdRP"
      }
    },
    {
      "cell_type": "markdown",
      "source": [
        "##### 3. Will the gained insights help creating a positive business impact?\n",
        "Are there any insights that lead to negative growth? Justify with specific reason."
      ],
      "metadata": {
        "id": "448CDAPjqfQr"
      }
    },
    {
      "cell_type": "markdown",
      "source": [
        "Yes. This insight highlights a clear supply-demand gap that Uber can address by improving driver availability or incentivizing night driving."
      ],
      "metadata": {
        "id": "3cspy4FjqxJW"
      }
    },
    {
      "cell_type": "markdown",
      "source": [
        "#### Chart - 2: Pickup Point Distribution"
      ],
      "metadata": {
        "id": "KSlN3yHqYklG"
      }
    },
    {
      "cell_type": "code",
      "source": [
        "# Chart - 2 visualization code\n",
        "plt.figure(figsize=(6,4))\n",
        "sns.countplot(data=df, x='Pickup point', hue='Pickup point', palette='cool', legend=False)\n",
        "plt.title(\"Pickup Location Distribution\")\n",
        "plt.xlabel(\"Pickup Point\")\n",
        "plt.ylabel(\"Number of Requests\")\n",
        "plt.show()\n"
      ],
      "metadata": {
        "id": "R4YgtaqtYklH"
      },
      "execution_count": null,
      "outputs": []
    },
    {
      "cell_type": "markdown",
      "source": [
        "##### 1. Why did you pick the specific chart?"
      ],
      "metadata": {
        "id": "t6dVpIINYklI"
      }
    },
    {
      "cell_type": "markdown",
      "source": [
        "To find which pickup point (Airport or City) has more ride requests."
      ],
      "metadata": {
        "id": "5aaW0BYyYklI"
      }
    },
    {
      "cell_type": "markdown",
      "source": [
        "##### 2. What is/are the insight(s) found from the chart?"
      ],
      "metadata": {
        "id": "ijmpgYnKYklI"
      }
    },
    {
      "cell_type": "markdown",
      "source": [
        "The Airport has a slightly higher number of requests than the City.\n"
      ],
      "metadata": {
        "id": "PSx9atu2YklI"
      }
    },
    {
      "cell_type": "markdown",
      "source": [
        "##### 3. Will the gained insights help creating a positive business impact?\n",
        "Are there any insights that lead to negative growth? Justify with specific reason."
      ],
      "metadata": {
        "id": "-JiQyfWJYklI"
      }
    },
    {
      "cell_type": "markdown",
      "source": [
        "Uber should do further analysis on where the airport - city routes are located and make sure it has continual availability there, particularly during flight arrival clusters."
      ],
      "metadata": {
        "id": "BcBbebzrYklV"
      }
    },
    {
      "cell_type": "markdown",
      "source": [
        "#### Chart - 3: Time Slot Distribution"
      ],
      "metadata": {
        "id": "EM7whBJCYoAo"
      }
    },
    {
      "cell_type": "code",
      "source": [
        "# CChart - 3 visualization code\n",
        "plt.figure(figsize=(7,4))\n",
        "sns.countplot(data=df, x='Request Time Slot', hue='Request Time Slot', order=['Early Morning','Morning','Afternoon','Evening','Night'], palette='muted', legend=False)\n",
        "plt.title(\"Number of Requests by Time Slot\")\n",
        "plt.xticks(rotation=45)\n",
        "plt.show()\n"
      ],
      "metadata": {
        "id": "t6GMdE67YoAp"
      },
      "execution_count": null,
      "outputs": []
    },
    {
      "cell_type": "markdown",
      "source": [
        "##### 1. Why did you pick the specific chart?"
      ],
      "metadata": {
        "id": "fge-S5ZAYoAp"
      }
    },
    {
      "cell_type": "markdown",
      "source": [
        "To compare peak and low-demand periods.\n",
        "\n"
      ],
      "metadata": {
        "id": "5dBItgRVYoAp"
      }
    },
    {
      "cell_type": "markdown",
      "source": [
        "##### 2. What is/are the insight(s) found from the chart?"
      ],
      "metadata": {
        "id": "85gYPyotYoAp"
      }
    },
    {
      "cell_type": "markdown",
      "source": [
        "Morning, early morning and night have the highest demand periods. Afternoon, is the lowest demand"
      ],
      "metadata": {
        "id": "4jstXR6OYoAp"
      }
    },
    {
      "cell_type": "markdown",
      "source": [
        "##### 3. Will the gained insights help creating a positive business impact?\n",
        "Are there any insights that lead to negative growth? Justify with specific reason."
      ],
      "metadata": {
        "id": "RoGjAbkUYoAp"
      }
    },
    {
      "cell_type": "markdown",
      "source": [
        "Uber can develop surge pricing or incentive programs for drivers during late nights and Morning Rush. Early Morning will require consideration to create focus and not miss demand.\n"
      ],
      "metadata": {
        "id": "zfJ8IqMcYoAp"
      }
    },
    {
      "cell_type": "markdown",
      "source": [
        "#### Chart - 4: Request Hour Distribution"
      ],
      "metadata": {
        "id": "4Of9eVA-YrdM"
      }
    },
    {
      "cell_type": "code",
      "source": [
        "# Chart - 4 visualization code\n",
        "plt.figure(figsize=(10,4))\n",
        "sns.histplot(df['Request Hour'], bins=24, kde=True, color='orange')\n",
        "plt.title(\"Requests per Hour\")\n",
        "plt.xlabel(\"Hour of Day\")\n",
        "plt.ylabel(\"Number of Requests\")\n",
        "plt.show()\n"
      ],
      "metadata": {
        "id": "irlUoxc8YrdO"
      },
      "execution_count": null,
      "outputs": []
    },
    {
      "cell_type": "markdown",
      "source": [
        "##### 1. Why did you pick the specific chart?"
      ],
      "metadata": {
        "id": "iky9q4vBYrdO"
      }
    },
    {
      "cell_type": "markdown",
      "source": [
        "To observe trends in ride requests on an hourly basis.\n"
      ],
      "metadata": {
        "id": "aJRCwT6DYrdO"
      }
    },
    {
      "cell_type": "markdown",
      "source": [
        "##### 2. What is/are the insight(s) found from the chart?"
      ],
      "metadata": {
        "id": "F6T5p64dYrdO"
      }
    },
    {
      "cell_type": "markdown",
      "source": [
        "There is a marked increase in ride requests between the hours of 5 AM to 10 AM, as well as an increase in the night hours."
      ],
      "metadata": {
        "id": "Xx8WAJvtYrdO"
      }
    },
    {
      "cell_type": "markdown",
      "source": [
        "##### 3. Will the gained insights help creating a positive business impact?\n",
        "Are there any insights that lead to negative growth? Justify with specific reason."
      ],
      "metadata": {
        "id": "y-Ehk30pYrdP"
      }
    },
    {
      "cell_type": "markdown",
      "source": [
        "Understanding hourly peaks can be helpful to anticipate hourly demand and place drivers wisely in the field, this reduces reducing unfulfilled requests.\n"
      ],
      "metadata": {
        "id": "jLNxxz7MYrdP"
      }
    },
    {
      "cell_type": "markdown",
      "source": [
        "#### Chart - 5: Cancellations Only – Time Slot Wise"
      ],
      "metadata": {
        "id": "bamQiAODYuh1"
      }
    },
    {
      "cell_type": "code",
      "source": [
        "# Chart - 5 visualization code\n",
        "cancelled = df[df['Status'] == 'Cancelled']\n",
        "\n",
        "plt.figure(figsize=(7,4))\n",
        "sns.countplot(data=cancelled, x='Request Time Slot', hue='Request Time Slot', order=['Early Morning','Morning','Afternoon','Evening','Night'], palette='Reds', legend=False)\n",
        "plt.title(\"Cancelled Requests by Time Slot\")\n",
        "plt.xticks(rotation=45)\n",
        "plt.show()\n"
      ],
      "metadata": {
        "id": "TIJwrbroYuh3"
      },
      "execution_count": null,
      "outputs": []
    },
    {
      "cell_type": "markdown",
      "source": [
        "##### 1. Why did you pick the specific chart?"
      ],
      "metadata": {
        "id": "QHF8YVU7Yuh3"
      }
    },
    {
      "cell_type": "markdown",
      "source": [
        "To see when cancellations are occurring most.\n"
      ],
      "metadata": {
        "id": "dcxuIMRPYuh3"
      }
    },
    {
      "cell_type": "markdown",
      "source": [
        "##### 2. What is/are the insight(s) found from the chart?"
      ],
      "metadata": {
        "id": "GwzvFGzlYuh3"
      }
    },
    {
      "cell_type": "markdown",
      "source": [
        "Most cancellation occur in the Morning and early morning time period."
      ],
      "metadata": {
        "id": "uyqkiB8YYuh3"
      }
    },
    {
      "cell_type": "markdown",
      "source": [
        "##### 3. Will the gained insights help creating a positive business impact?\n",
        "Are there any insights that lead to negative growth? Justify with specific reason."
      ],
      "metadata": {
        "id": "qYpmQ266Yuh3"
      }
    },
    {
      "cell_type": "markdown",
      "source": [
        "Uber should explore whether drivers are declining early morning rides and consider to give them incentive.\n"
      ],
      "metadata": {
        "id": "_WtzZ_hCYuh4"
      }
    },
    {
      "cell_type": "markdown",
      "source": [
        "#### Chart - 6: No Cars Available – Time Slot Wise"
      ],
      "metadata": {
        "id": "OH-pJp9IphqM"
      }
    },
    {
      "cell_type": "code",
      "source": [
        "# Chart - 6 visualization code\n",
        "no_cars = df[df['Status'] == 'No Cars Available']\n",
        "\n",
        "plt.figure(figsize=(7,4))\n",
        "sns.countplot(data=no_cars, x='Request Time Slot', hue='Request Time Slot', order=['Early Morning','Morning','Afternoon','Evening','Night'], palette='Blues')\n",
        "plt.title(\"No Cars Available by Time Slot\")\n",
        "plt.xticks(rotation=45)\n",
        "plt.show()\n"
      ],
      "metadata": {
        "id": "kuRf4wtuphqN"
      },
      "execution_count": null,
      "outputs": []
    },
    {
      "cell_type": "markdown",
      "source": [
        "##### 1. Why did you pick the specific chart?"
      ],
      "metadata": {
        "id": "bbFf2-_FphqN"
      }
    },
    {
      "cell_type": "markdown",
      "source": [
        "To find when Uber has the biggest driver shortages."
      ],
      "metadata": {
        "id": "loh7H2nzphqN"
      }
    },
    {
      "cell_type": "markdown",
      "source": [
        "##### 2. What is/are the insight(s) found from the chart?"
      ],
      "metadata": {
        "id": "_ouA3fa0phqN"
      }
    },
    {
      "cell_type": "markdown",
      "source": [
        "The most ‘No Cars Available’ is during evening and nights period followed by early mornings."
      ],
      "metadata": {
        "id": "VECbqPI7phqN"
      }
    },
    {
      "cell_type": "markdown",
      "source": [
        "##### 3. Will the gained insights help creating a positive business impact?\n",
        "Are there any insights that lead to negative growth? Justify with specific reason."
      ],
      "metadata": {
        "id": "Seke61FWphqN"
      }
    },
    {
      "cell_type": "markdown",
      "source": [
        "Encouraging driver participation at night and scheduling drivers during low-supply hours can greatly boost customer demand."
      ],
      "metadata": {
        "id": "DW4_bGpfphqN"
      }
    },
    {
      "cell_type": "markdown",
      "source": [
        "#### Chart - 7: Status by Pickup Point"
      ],
      "metadata": {
        "id": "PIIx-8_IphqN"
      }
    },
    {
      "cell_type": "code",
      "source": [
        "# Chart - 7 visualization code\n",
        "plt.figure(figsize=(6,4))\n",
        "sns.countplot(data=df, x='Pickup point', hue='Status', palette='Set1')\n",
        "plt.title(\"Trip Status by Pickup Point\")\n",
        "plt.ylabel(\"Number of Requests\")\n",
        "plt.show()\n"
      ],
      "metadata": {
        "id": "lqAIGUfyphqO"
      },
      "execution_count": null,
      "outputs": []
    },
    {
      "cell_type": "markdown",
      "source": [
        "##### 1. Why did you pick the specific chart?"
      ],
      "metadata": {
        "id": "t27r6nlMphqO"
      }
    },
    {
      "cell_type": "markdown",
      "source": [
        "To understand how the success/failure of rides changes by pickup location.\n"
      ],
      "metadata": {
        "id": "iv6ro40sphqO"
      }
    },
    {
      "cell_type": "markdown",
      "source": [
        "##### 2. What is/are the insight(s) found from the chart?"
      ],
      "metadata": {
        "id": "r2jJGEOYphqO"
      }
    },
    {
      "cell_type": "markdown",
      "source": [
        "The Airport has more ‘No Cars Available’ cases, while the City has more ‘Cancelled’ rides.\n",
        "\n"
      ],
      "metadata": {
        "id": "Po6ZPi4hphqO"
      }
    },
    {
      "cell_type": "markdown",
      "source": [
        "##### 3. Will the gained insights help creating a positive business impact?\n",
        "Are there any insights that lead to negative growth? Justify with specific reason."
      ],
      "metadata": {
        "id": "b0JNsNcRphqO"
      }
    },
    {
      "cell_type": "markdown",
      "source": [
        "Different strategies are needed for each location — improve car availability at Airport; address cancellations in City.\n"
      ],
      "metadata": {
        "id": "xvSq8iUTphqO"
      }
    },
    {
      "cell_type": "markdown",
      "source": [
        "#### Chart - 8: Status by Time Slot\n"
      ],
      "metadata": {
        "id": "BZR9WyysphqO"
      }
    },
    {
      "cell_type": "code",
      "source": [
        "# Chart - 8 visualization code\n",
        "plt.figure(figsize=(8,4))\n",
        "sns.countplot(data=df, x='Request Time Slot', hue='Status', order=['Early Morning','Morning','Afternoon','Evening','Night'], palette='Set2')\n",
        "plt.title(\"Trip Status by Time Slot\")\n",
        "plt.xticks(rotation=45)\n",
        "plt.ylabel(\"Number of Requests\")\n",
        "plt.show()\n"
      ],
      "metadata": {
        "id": "TdPTWpAVphqO"
      },
      "execution_count": null,
      "outputs": []
    },
    {
      "cell_type": "markdown",
      "source": [
        "##### 1. Why did you pick the specific chart?"
      ],
      "metadata": {
        "id": "jj7wYXLtphqO"
      }
    },
    {
      "cell_type": "markdown",
      "source": [
        "To identify when Uber has the most supply-demand imbalance."
      ],
      "metadata": {
        "id": "Ob8u6rCTphqO"
      }
    },
    {
      "cell_type": "markdown",
      "source": [
        "##### 2. What is/are the insight(s) found from the chart?"
      ],
      "metadata": {
        "id": "eZrbJ2SmphqO"
      }
    },
    {
      "cell_type": "markdown",
      "source": [
        "\"Night\" has many 'No Cars Available', and \"Morning\" has more cancellations."
      ],
      "metadata": {
        "id": "mZtgC_hjphqO"
      }
    },
    {
      "cell_type": "markdown",
      "source": [
        "##### 3. Will the gained insights help creating a positive business impact?\n",
        "Are there any insights that lead to negative growth? Justify with specific reason."
      ],
      "metadata": {
        "id": "rFu4xreNphqO"
      }
    },
    {
      "cell_type": "markdown",
      "source": [
        "Uber should focus on Night driver availability and reducing early morning driver cancellations."
      ],
      "metadata": {
        "id": "ey_0qi68phqO"
      }
    },
    {
      "cell_type": "markdown",
      "source": [
        "#### Chart - 9: Request Hour vs Trip Status"
      ],
      "metadata": {
        "id": "YJ55k-q6phqO"
      }
    },
    {
      "cell_type": "code",
      "source": [
        "# Chart - 9 visualization code\n",
        "plt.figure(figsize=(12,4))\n",
        "sns.histplot(data=df, x='Request Hour', hue='Status', multiple='stack', palette='coolwarm', bins=24)\n",
        "plt.title(\"Request Hour vs Trip Status\")\n",
        "plt.xlabel(\"Hour of the Day\")\n",
        "plt.show()\n"
      ],
      "metadata": {
        "id": "B2aS4O1ophqO"
      },
      "execution_count": null,
      "outputs": []
    },
    {
      "cell_type": "markdown",
      "source": [
        "##### 1. Why did you pick the specific chart?"
      ],
      "metadata": {
        "id": "gCFgpxoyphqP"
      }
    },
    {
      "cell_type": "markdown",
      "source": [
        "To combine time-based analysis with status outcomes."
      ],
      "metadata": {
        "id": "TVxDimi2phqP"
      }
    },
    {
      "cell_type": "markdown",
      "source": [
        "##### 2. What is/are the insight(s) found from the chart?"
      ],
      "metadata": {
        "id": "OVtJsKN_phqQ"
      }
    },
    {
      "cell_type": "markdown",
      "source": [
        "Peak demand hours (5–9 AM) face the most cancellations; night hours see unavailability."
      ],
      "metadata": {
        "id": "ngGi97qjphqQ"
      }
    },
    {
      "cell_type": "markdown",
      "source": [
        "##### 3. Will the gained insights help creating a positive business impact?\n",
        "Are there any insights that lead to negative growth? Justify with specific reason."
      ],
      "metadata": {
        "id": "lssrdh5qphqQ"
      }
    },
    {
      "cell_type": "markdown",
      "source": [
        "Enabling flexible scheduling and surge driver incentives can help meet demand at these times.\n"
      ],
      "metadata": {
        "id": "tBpY5ekJphqQ"
      }
    },
    {
      "cell_type": "markdown",
      "source": [
        "#### Chart - 10: Pickup Point vs Time Slot"
      ],
      "metadata": {
        "id": "U2RJ9gkRphqQ"
      }
    },
    {
      "cell_type": "code",
      "source": [
        "# Chart - 10 visualization code\n",
        "plt.figure(figsize=(8,5))\n",
        "sns.countplot(data=df, x='Request Time Slot', hue='Pickup point', order=['Early Morning','Morning','Afternoon','Evening','Night'], palette='pastel')\n",
        "plt.title(\"Pickup Point Distribution by Time Slot\")\n",
        "plt.xticks(rotation=45)\n",
        "plt.show()\n"
      ],
      "metadata": {
        "id": "GM7a4YP4phqQ"
      },
      "execution_count": null,
      "outputs": []
    },
    {
      "cell_type": "markdown",
      "source": [
        "##### 1. Why did you pick the specific chart?"
      ],
      "metadata": {
        "id": "1M8mcRywphqQ"
      }
    },
    {
      "cell_type": "markdown",
      "source": [
        "To see which pickup points are more active at different times."
      ],
      "metadata": {
        "id": "8agQvks0phqQ"
      }
    },
    {
      "cell_type": "markdown",
      "source": [
        "##### 2. What is/are the insight(s) found from the chart?"
      ],
      "metadata": {
        "id": "tgIPom80phqQ"
      }
    },
    {
      "cell_type": "markdown",
      "source": [
        "Airport dominates Evening and Night pickups; City is busier during the day."
      ],
      "metadata": {
        "id": "Qp13pnNzphqQ"
      }
    },
    {
      "cell_type": "markdown",
      "source": [
        "##### 3. Will the gained insights help creating a positive business impact?\n",
        "Are there any insights that lead to negative growth? Justify with specific reason."
      ],
      "metadata": {
        "id": "JMzcOPDDphqR"
      }
    },
    {
      "cell_type": "markdown",
      "source": [
        "Airport shifts should be prioritized during early hours and night hours; City during the day."
      ],
      "metadata": {
        "id": "R4Ka1PC2phqR"
      }
    },
    {
      "cell_type": "markdown",
      "source": [
        "#### Chart - 11: Cancellations by Hour"
      ],
      "metadata": {
        "id": "x-EpHcCOp1ci"
      }
    },
    {
      "cell_type": "code",
      "source": [
        "# Chart - 11 visualization code\n",
        "cancelled = df[df['Status'] == 'Cancelled']\n",
        "plt.figure(figsize=(10,4))\n",
        "sns.countplot(data=cancelled, x='Request Hour', hue='Request Hour', palette='Reds')\n",
        "plt.title(\"Cancellations by Hour\")\n",
        "plt.xlabel(\"Hour of Day\")\n",
        "plt.ylabel(\"Cancelled Requests\")\n",
        "plt.show()\n"
      ],
      "metadata": {
        "id": "mAQTIvtqp1cj"
      },
      "execution_count": null,
      "outputs": []
    },
    {
      "cell_type": "markdown",
      "source": [
        "##### 1. Why did you pick the specific chart?"
      ],
      "metadata": {
        "id": "X_VqEhTip1ck"
      }
    },
    {
      "cell_type": "markdown",
      "source": [
        "To pinpoint exact hours of high cancellation behavior.\n"
      ],
      "metadata": {
        "id": "-vsMzt_np1ck"
      }
    },
    {
      "cell_type": "markdown",
      "source": [
        "##### 2. What is/are the insight(s) found from the chart?"
      ],
      "metadata": {
        "id": "8zGJKyg5p1ck"
      }
    },
    {
      "cell_type": "markdown",
      "source": [
        "Most cancellations happen between 7 AM and 10 AM.\n"
      ],
      "metadata": {
        "id": "ZYdMsrqVp1ck"
      }
    },
    {
      "cell_type": "markdown",
      "source": [
        "##### 3. Will the gained insights help creating a positive business impact?\n",
        "Are there any insights that lead to negative growth? Justify with specific reason."
      ],
      "metadata": {
        "id": "PVzmfK_Ep1ck"
      }
    },
    {
      "cell_type": "markdown",
      "source": [
        "High morning cancellations may cause user frustration. Uber must understand driver reluctance at this time."
      ],
      "metadata": {
        "id": "druuKYZpp1ck"
      }
    },
    {
      "cell_type": "markdown",
      "source": [
        "#### Chart - 12: No Cars Available by Hour"
      ],
      "metadata": {
        "id": "n3dbpmDWp1ck"
      }
    },
    {
      "cell_type": "code",
      "source": [
        "# Chart - 12 visualization code\n",
        "no_cars = df[df['Status'] == 'No Cars Available']\n",
        "plt.figure(figsize=(10,4))\n",
        "sns.countplot(data=no_cars, x='Request Hour', hue='Request Hour',palette='Blues')\n",
        "plt.title(\"No Cars Available by Hour\")\n",
        "plt.xlabel(\"Hour of Day\")\n",
        "plt.ylabel(\"Unfulfilled Requests\")\n",
        "plt.show()\n"
      ],
      "metadata": {
        "id": "bwevp1tKp1ck"
      },
      "execution_count": null,
      "outputs": []
    },
    {
      "cell_type": "markdown",
      "source": [
        "##### 1. Why did you pick the specific chart?"
      ],
      "metadata": {
        "id": "ylSl6qgtp1ck"
      }
    },
    {
      "cell_type": "markdown",
      "source": [
        "To check driver unavailability by hour."
      ],
      "metadata": {
        "id": "m2xqNkiQp1ck"
      }
    },
    {
      "cell_type": "markdown",
      "source": [
        "##### 2. What is/are the insight(s) found from the chart?"
      ],
      "metadata": {
        "id": "ZWILFDl5p1ck"
      }
    },
    {
      "cell_type": "markdown",
      "source": [
        "Night (17 to 23) shows the highest lack of cars."
      ],
      "metadata": {
        "id": "x-lUsV2mp1ck"
      }
    },
    {
      "cell_type": "markdown",
      "source": [
        "##### 3. Will the gained insights help creating a positive business impact?\n",
        "Are there any insights that lead to negative growth? Justify with specific reason."
      ],
      "metadata": {
        "id": "M7G43BXep1ck"
      }
    },
    {
      "cell_type": "markdown",
      "source": [
        "Uber can introduce incentives like surge pricing to attract night drivers and fix this supply issue."
      ],
      "metadata": {
        "id": "5wwDJXsLp1cl"
      }
    },
    {
      "cell_type": "markdown",
      "source": [
        "#### Chart - 13: Completed vs Unfulfilled (Manual Grouping)"
      ],
      "metadata": {
        "id": "tYHOpYWi8lWi"
      }
    },
    {
      "cell_type": "code",
      "source": [
        "# Chart - 13 visualization code\n",
        "df['Request Status Group'] = df['Status'].apply(lambda x: 'Fulfilled' if x == 'Trip Completed' else 'Unfulfilled')\n",
        "\n",
        "plt.figure(figsize=(6,4))\n",
        "sns.countplot(data=df, x='Request Status Group', hue='Request Status Group', palette='Accent', legend=False)\n",
        "plt.title(\"Fulfilled vs Unfulfilled Requests\")\n",
        "plt.ylabel(\"Total Requests\")\n",
        "plt.show()\n"
      ],
      "metadata": {
        "id": "VNA-C2N58lWi"
      },
      "execution_count": null,
      "outputs": []
    },
    {
      "cell_type": "markdown",
      "source": [
        "##### 1. Why did you pick the specific chart?"
      ],
      "metadata": {
        "id": "7lWAjqOA8lWj"
      }
    },
    {
      "cell_type": "markdown",
      "source": [
        "To summarize all failed trips in one bar (No Cars + Cancelled)."
      ],
      "metadata": {
        "id": "fdKsLFYl8lWj"
      }
    },
    {
      "cell_type": "markdown",
      "source": [
        "##### 2. What is/are the insight(s) found from the chart?"
      ],
      "metadata": {
        "id": "fvClUKca8lWj"
      }
    },
    {
      "cell_type": "markdown",
      "source": [
        "Unfulfilled requests outnumber completed ones."
      ],
      "metadata": {
        "id": "P6CF_wL08lWj"
      }
    },
    {
      "cell_type": "markdown",
      "source": [
        "##### 3. Will the gained insights help creating a positive business impact?\n",
        "Are there any insights that lead to negative growth? Justify with specific reason."
      ],
      "metadata": {
        "id": "9xLHaPt48lWj"
      }
    },
    {
      "cell_type": "markdown",
      "source": [
        "This visualization simplifies Uber’s core problem: high rate of unfulfilled requests which is an immediate priority."
      ],
      "metadata": {
        "id": "OVcOIM1D8lWj"
      }
    },
    {
      "cell_type": "markdown",
      "source": [
        "#### Chart - 14: Stacked Status by Pickup Point & Time Slot (using Crosstab)\n",
        "\n"
      ],
      "metadata": {
        "id": "Ag9LCva-p1cl"
      }
    },
    {
      "cell_type": "code",
      "source": [
        "# Chart - 13 visualization code\n",
        "pd.crosstab(df['Request Time Slot'], df['Status']).plot(kind='bar', stacked=True, figsize=(10,6), colormap='viridis')\n",
        "plt.title(\"Stacked Trip Status by Time Slot\")\n",
        "plt.ylabel(\"Number of Requests\")\n",
        "plt.xticks(rotation=45)\n",
        "plt.show()\n"
      ],
      "metadata": {
        "id": "EUfxeq9-p1cl"
      },
      "execution_count": null,
      "outputs": []
    },
    {
      "cell_type": "markdown",
      "source": [
        "##### 1. Why did you pick the specific chart?"
      ],
      "metadata": {
        "id": "E6MkPsBcp1cl"
      }
    },
    {
      "cell_type": "markdown",
      "source": [
        "To combine three dimensions: time, status, and volume."
      ],
      "metadata": {
        "id": "V22bRsFWp1cl"
      }
    },
    {
      "cell_type": "markdown",
      "source": [
        "##### 2. What is/are the insight(s) found from the chart?"
      ],
      "metadata": {
        "id": "2cELzS2fp1cl"
      }
    },
    {
      "cell_type": "markdown",
      "source": [
        "Night and Early Morning slots have large unfulfilled bars."
      ],
      "metadata": {
        "id": "ozQPc2_Ip1cl"
      }
    },
    {
      "cell_type": "markdown",
      "source": [
        "##### 3. Will the gained insights help creating a positive business impact?\n",
        "Are there any insights that lead to negative growth? Justify with specific reason."
      ],
      "metadata": {
        "id": "3MPXvC8up1cl"
      }
    },
    {
      "cell_type": "markdown",
      "source": [
        "This gives a clear visual of **when** and **why** Uber loses rides. Stakeholders can use this to optimize driver shifts and customer satisfaction.\n"
      ],
      "metadata": {
        "id": "GL8l1tdLp1cl"
      }
    },
    {
      "cell_type": "markdown",
      "source": [
        "#### Chart - 15: Time Slot vs Pickup Point vs Status (Facet Grid)"
      ],
      "metadata": {
        "id": "Zn8wHm2c8wsU"
      }
    },
    {
      "cell_type": "code",
      "source": [
        "# Chart - 13 visualization code\n",
        "g = sns.catplot(data=df, x='Request Time Slot', hue='Status', col='Pickup point',\n",
        "                kind='count', col_order=['City', 'Airport'],\n",
        "                order=['Early Morning','Morning','Afternoon','Evening','Night'],\n",
        "                height=5, aspect=1.2, palette='tab10')\n",
        "g.fig.suptitle(\"Trip Status by Time Slot and Pickup Point\", y=1.03)\n",
        "plt.xticks(rotation=45)\n",
        "plt.show()"
      ],
      "metadata": {
        "id": "CItM_xMp8wsU"
      },
      "execution_count": null,
      "outputs": []
    },
    {
      "cell_type": "markdown",
      "source": [
        "##### 1. Why did you pick the specific chart?"
      ],
      "metadata": {
        "id": "OYpX_4xw8wsU"
      }
    },
    {
      "cell_type": "markdown",
      "source": [
        "This chart helps compare status outcomes across different time slots for both pickup points side by side.\n"
      ],
      "metadata": {
        "id": "17mIh6Qc8wsV"
      }
    },
    {
      "cell_type": "markdown",
      "source": [
        "##### 2. What is/are the insight(s) found from the chart?"
      ],
      "metadata": {
        "id": "bKEVLe6z8wsV"
      }
    },
    {
      "cell_type": "markdown",
      "source": [
        "- Airport has more 'No Cars Available' at night.\n",
        "- City shows higher 'Cancelled' rides in the morning."
      ],
      "metadata": {
        "id": "wJ0ThyVn8wsV"
      }
    },
    {
      "cell_type": "markdown",
      "source": [
        "##### 3. Will the gained insights help creating a positive business impact?\n",
        "Are there any insights that lead to negative growth? Justify with specific reason."
      ],
      "metadata": {
        "id": "VfxrY8k88wsV"
      }
    },
    {
      "cell_type": "markdown",
      "source": [
        "With this breakdown, Uber can localize driver incentives based on **time + location**, reducing specific supply-demand gaps."
      ],
      "metadata": {
        "id": "_IZTr76y8wsV"
      }
    },
    {
      "cell_type": "markdown",
      "source": [
        "#### Chart - 16: Pie Charts – Status Ratio for City vs Airport"
      ],
      "metadata": {
        "id": "XjI-VaBV80Os"
      }
    },
    {
      "cell_type": "code",
      "source": [
        "# Chart - 13 visualization code\n",
        "import matplotlib.pyplot as plt\n",
        "\n",
        "status_order = ['Trip Completed', 'Cancelled', 'No Cars Available']\n",
        "\n",
        "fig, axes = plt.subplots(1, 2, figsize=(12, 6))\n",
        "\n",
        "for i, loc in enumerate(['City', 'Airport']):\n",
        "    data = df[df['Pickup point'] == loc]['Status'].value_counts().reindex(status_order, fill_value=0)\n",
        "\n",
        "    axes[i].pie(data, labels=data.index, autopct='%1.1f%%', startangle=90, colors=sns.color_palette('pastel'))\n",
        "    axes[i].set_title(f\"{loc} - Trip Status\")\n",
        "\n",
        "plt.tight_layout()\n",
        "plt.show()\n"
      ],
      "metadata": {
        "id": "wxDeUhoj80Ot"
      },
      "execution_count": null,
      "outputs": []
    },
    {
      "cell_type": "markdown",
      "source": [
        "##### 1. Why did you pick the specific chart?"
      ],
      "metadata": {
        "id": "cGolYsl980Ot"
      }
    },
    {
      "cell_type": "markdown",
      "source": [
        "Pie charts offer a quick comparison of status proportions between City and Airport."
      ],
      "metadata": {
        "id": "-_3qUyf780Ot"
      }
    },
    {
      "cell_type": "markdown",
      "source": [
        "##### 2. What is/are the insight(s) found from the chart?"
      ],
      "metadata": {
        "id": "gMFxLgNw80Ot"
      }
    },
    {
      "cell_type": "markdown",
      "source": [
        "Airport has fewer Completed rides compared to City. Unfulfilled requests dominate both the City and Airport area. More no cars available in the airport area."
      ],
      "metadata": {
        "id": "0BK77XxJ80Ot"
      }
    },
    {
      "cell_type": "markdown",
      "source": [
        "##### 3. Will the gained insights help creating a positive business impact?\n",
        "Are there any insights that lead to negative growth? Justify with specific reason."
      ],
      "metadata": {
        "id": "YFx0YeqZ80Ot"
      }
    },
    {
      "cell_type": "markdown",
      "source": [
        "This highlights the need for Airport-specific driver recruitment or scheduling strategy."
      ],
      "metadata": {
        "id": "Vi5RMr1D80Ou"
      }
    },
    {
      "cell_type": "markdown",
      "source": [
        "#### Chart - 17: Heatmap – Status Distribution Across Hours and Pickup Point"
      ],
      "metadata": {
        "id": "PKO711q783Yk"
      }
    },
    {
      "cell_type": "code",
      "source": [
        "# Chart - 13 visualization code\n",
        "pivot = pd.crosstab(df['Request Hour'], df['Pickup point'] + \" - \" + df['Status'])\n",
        "plt.figure(figsize=(12,6))\n",
        "sns.heatmap(pivot, cmap='YlGnBu', linewidths=0.5)\n",
        "plt.title(\"Status by Hour and Pickup Point\")\n",
        "plt.xlabel(\"Pickup Point - Status\")\n",
        "plt.ylabel(\"Request Hour\")\n",
        "plt.show()\n"
      ],
      "metadata": {
        "id": "bLs9Fnsg83Yk"
      },
      "execution_count": null,
      "outputs": []
    },
    {
      "cell_type": "markdown",
      "source": [
        "##### 1. Why did you pick the specific chart?"
      ],
      "metadata": {
        "id": "hKF28_mq83Yk"
      }
    },
    {
      "cell_type": "markdown",
      "source": [
        "A heatmap offers a dense view of patterns over hours and locations, across multiple statuses.\n"
      ],
      "metadata": {
        "id": "P3t_nY2e83Yl"
      }
    },
    {
      "cell_type": "markdown",
      "source": [
        "##### 2. What is/are the insight(s) found from the chart?"
      ],
      "metadata": {
        "id": "27Ndx7j183Yl"
      }
    },
    {
      "cell_type": "markdown",
      "source": [
        "City has more cancellations from 7–10 AM\n",
        "Airport faces severe car shortages between 5–9 PM\n"
      ],
      "metadata": {
        "id": "sOcc1h7v83Yl"
      }
    },
    {
      "cell_type": "markdown",
      "source": [
        "##### 3. Will the gained insights help creating a positive business impact?\n",
        "Are there any insights that lead to negative growth? Justify with specific reason."
      ],
      "metadata": {
        "id": "NyWt81y183Yl"
      }
    },
    {
      "cell_type": "markdown",
      "source": [
        "Uber can use this grid to plan **driver shifts hourly**, especially in airport zones during low-supply hours."
      ],
      "metadata": {
        "id": "kkMYm_so83Yl"
      }
    },
    {
      "cell_type": "markdown",
      "source": [
        "#### Chart - 18: Boxplot – Request Hour by Trip Status"
      ],
      "metadata": {
        "id": "nAhSJGIO89Vd"
      }
    },
    {
      "cell_type": "code",
      "source": [
        "# Chart - 13 visualization code\n",
        "plt.figure(figsize=(8,5))\n",
        "sns.boxplot(data=df, x='Status', hue='Status', y='Request Hour', palette='Set3')\n",
        "plt.title(\"Distribution of Request Hour by Trip Status\")\n",
        "plt.show()"
      ],
      "metadata": {
        "id": "93Bdat2K89Ve"
      },
      "execution_count": null,
      "outputs": []
    },
    {
      "cell_type": "markdown",
      "source": [
        "##### 1. Why did you pick the specific chart?"
      ],
      "metadata": {
        "id": "ELdOIoEu89Ve"
      }
    },
    {
      "cell_type": "markdown",
      "source": [
        "To analyze when most different statuses occur, on average."
      ],
      "metadata": {
        "id": "KvgjWwb-89Ve"
      }
    },
    {
      "cell_type": "markdown",
      "source": [
        "##### 2. What is/are the insight(s) found from the chart?"
      ],
      "metadata": {
        "id": "uLu3CEWf89Vf"
      }
    },
    {
      "cell_type": "markdown",
      "source": [
        "- Cancelled rides cluster around 8–10 AM.\n",
        "- No Cars Available spreads widely, mostly evening-night."
      ],
      "metadata": {
        "id": "bBIqxomx89Vf"
      }
    },
    {
      "cell_type": "markdown",
      "source": [
        "##### 3. Will the gained insights help creating a positive business impact?\n",
        "Are there any insights that lead to negative growth? Justify with specific reason."
      ],
      "metadata": {
        "id": "SEhda_7V89Vf"
      }
    },
    {
      "cell_type": "markdown",
      "source": [
        "Shows when to anticipate cancellations and drop-offs, helping Uber forecast **hour-wise issues**.\n"
      ],
      "metadata": {
        "id": "GxYHzmmh89Vg"
      }
    },
    {
      "cell_type": "markdown",
      "source": [
        "#### Chart - 19 - Correlation Heatmap"
      ],
      "metadata": {
        "id": "NC_X3p0fY2L0"
      }
    },
    {
      "cell_type": "code",
      "source": [
        "# Correlation Heatmap visualization code\n",
        "numeric_cols = df.select_dtypes(include='number')\n",
        "\n",
        "\n",
        "corr_matrix = numeric_cols.corr()\n",
        "\n",
        "plt.figure(figsize=(8,6))\n",
        "sns.heatmap(corr_matrix, annot=True, cmap='coolwarm', fmt=\".2f\", linewidths=0.5)\n",
        "plt.title(\"Correlation Heatmap\")\n",
        "plt.show()\n",
        "\n"
      ],
      "metadata": {
        "id": "xyC9zolEZNRQ"
      },
      "execution_count": null,
      "outputs": []
    },
    {
      "cell_type": "markdown",
      "source": [
        "##### 1. Why did you pick the specific chart?"
      ],
      "metadata": {
        "id": "UV0SzAkaZNRQ"
      }
    },
    {
      "cell_type": "markdown",
      "source": [
        "A correlation heatmap is useful to check for linear relationships between **numeric variables**, such as `Request Hour`, `Request Status Group, or any derived numerical metrics.\n"
      ],
      "metadata": {
        "id": "DVPuT8LYZNRQ"
      }
    },
    {
      "cell_type": "markdown",
      "source": [
        "##### 2. What is/are the insight(s) found from the chart?"
      ],
      "metadata": {
        "id": "YPEH6qLeZNRQ"
      }
    },
    {
      "cell_type": "markdown",
      "source": [
        "- Since the dataset is mostly categorical, only `Request Hour` and any other numeric variables like Driver id and request id are shown.\n",
        "- There are negative correlations present between `Request Hour` and driver id.\n"
      ],
      "metadata": {
        "id": "bfSqtnDqZNRR"
      }
    },
    {
      "cell_type": "markdown",
      "source": [
        "#### Chart - 20 - Pair Plot"
      ],
      "metadata": {
        "id": "q29F0dvdveiT"
      }
    },
    {
      "cell_type": "code",
      "source": [
        "# Pair Plot visualization code\n",
        "df_encoded = df.copy()\n",
        "\n",
        "status_map = {'Trip Completed': 0, 'Cancelled': 1, 'No Cars Available': 2}\n",
        "df_encoded['Status_Num'] = df_encoded['Status'].map(status_map)\n",
        "\n",
        "pickup_map = {'City': 0, 'Airport': 1}\n",
        "df_encoded['Pickup_Num'] = df_encoded['Pickup point'].map(pickup_map)\n",
        "\n",
        "features = ['Request Hour', 'Pickup_Num', 'Status_Num']\n",
        "\n",
        "sns.pairplot(df_encoded[features], hue='Status_Num', palette='husl', diag_kind='kde', corner=True)\n",
        "plt.suptitle(\"Pair Plot of Numerical Features Colored by Status\", y=1.02)\n",
        "plt.show()\n"
      ],
      "metadata": {
        "id": "o58-TEIhveiU"
      },
      "execution_count": null,
      "outputs": []
    },
    {
      "cell_type": "markdown",
      "source": [
        "##### 1. Why did you pick the specific chart?"
      ],
      "metadata": {
        "id": "EXh0U9oCveiU"
      }
    },
    {
      "cell_type": "markdown",
      "source": [
        "A pair plot helps visualize relationships between multiple numerical variables in pairs — using scatterplots and histograms."
      ],
      "metadata": {
        "id": "eMmPjTByveiU"
      }
    },
    {
      "cell_type": "markdown",
      "source": [
        "##### 2. What is/are the insight(s) found from the chart?"
      ],
      "metadata": {
        "id": "22aHeOlLveiV"
      }
    },
    {
      "cell_type": "markdown",
      "source": [
        "- Trip statuses are clearly distinguishable based on `Request Hour`.\n",
        "- ‘No Cars Available’ rides cluster in lower hours (Night/Early Morning).\n",
        "- Pickup location seems less influential in this encoded context."
      ],
      "metadata": {
        "id": "uPQ8RGwHveiV"
      }
    },
    {
      "cell_type": "markdown",
      "source": [
        "## **5. Solution to Business Objective**"
      ],
      "metadata": {
        "id": "JcMwzZxoAimU"
      }
    },
    {
      "cell_type": "markdown",
      "source": [
        "#### What do you suggest the client to achieve Business Objective ?\n",
        "Explain Briefly."
      ],
      "metadata": {
        "id": "8G2x9gOozGDZ"
      }
    },
    {
      "cell_type": "markdown",
      "source": [
        "**Optimize Driver Scheduling with Time-Based and Location-Based Insights**\n",
        "\n",
        "Challenge: Unmet requests are growing the most during the Night and Early Morning from the Airport, due to no cars being available or drivers cancelling.\n",
        "\n",
        "\n",
        "Solution: Data-driven shift planning:\n",
        "\n",
        "\n",
        "- Notice upon assigning or incentivising drivers to cover shifts, include a Night and Early Morning shift at the airport.\n",
        "\n",
        "\n",
        "- Take past requests to estimate hourly demand and deploy resources accordingly.\n",
        "\n",
        "**Introduce Targeted Incentives for Low Supply Periods**\n",
        "\n",
        "- Offer “Rush Hour Rewards” or night-time surge bonuses for drivers operating in critical slots (e.g., 12 AM – 4 AM).\n",
        "\n",
        "- Tie bonuses to actual ride completions (not just logins) to avoid idle logins without service.\n",
        "\n",
        "**Reduce Cancellations Through Driver Penalty & Reward System**\n",
        "\n",
        "- Identify drivers with repeated cancellations during peak hours and create a flag/feedback system.\n",
        "\n",
        "- Reward drivers who accept and complete early morning rides from the Airport, a high-cancellation zone.\n",
        "\n"
      ],
      "metadata": {
        "id": "pASKb0qOza21"
      }
    },
    {
      "cell_type": "markdown",
      "source": [
        "# **Conclusion**"
      ],
      "metadata": {
        "id": "gCX9965dhzqZ"
      }
    },
    {
      "cell_type": "markdown",
      "source": [
        "This EDA has revealed key operational inefficiencies in Uber's service — especially around **early mornings**, **airport rides**, and **driver cancellations**.  \n",
        "Business recommendations:\n",
        "- Schedule night/early morning drivers near airports\n",
        "- Provide morning rush-hour driver incentives\n",
        "- Analyze behavior-based cancellation trends\n",
        "Write the conclusion here."
      ],
      "metadata": {
        "id": "Fjb1IsQkh3yE"
      }
    },
    {
      "cell_type": "markdown",
      "source": [
        "### ***Hurrah! You have successfully completed your EDA Capstone Project !!!***"
      ],
      "metadata": {
        "id": "gIfDvo9L0UH2"
      }
    }
  ]
}